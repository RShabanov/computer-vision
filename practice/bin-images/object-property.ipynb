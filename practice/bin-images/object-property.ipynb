{
 "cells": [
  {
   "cell_type": "code",
   "execution_count": 1,
   "id": "b0d7ca71",
   "metadata": {},
   "outputs": [],
   "source": [
    "import numpy as np\n",
    "import matplotlib.pyplot as plt"
   ]
  },
  {
   "cell_type": "code",
   "execution_count": 2,
   "id": "9b7db075",
   "metadata": {},
   "outputs": [],
   "source": [
    "LB = np.zeros((16, 16))\n",
    "LB[4:, :4] = 2\n",
    "    \n",
    "LB[3:10, 8:] = 1\n",
    "LB[[3, 4, 3],[8, 8, 9]] = 0\n",
    "LB[[8, 9, 9],[8, 8, 9]] = 0\n",
    "LB[[3, 4, 3],[-2, -1, -1]] = 0\n",
    "LB[[9, 8, 9],[-2, -1, -1]] = 0\n",
    "    \n",
    "LB[12:-1, 6:9] = 3"
   ]
  },
  {
   "cell_type": "code",
   "execution_count": 3,
   "id": "a92f83b3",
   "metadata": {},
   "outputs": [
    {
     "data": {
      "image/png": "[encoded data removed]",
      "text/plain": [
       "<Figure size 432x288 with 1 Axes>"
      ]
     },
     "metadata": {
      "needs_background": "light"
     },
     "output_type": "display_data"
    }
   ],
   "source": [
    "plt.imshow(LB);"
   ]
  },
  {
   "cell_type": "code",
   "execution_count": 9,
   "id": "bc93822d",
   "metadata": {},
   "outputs": [],
   "source": [
    "def area(LB, label=1):\n",
    "    pxs = np.where(LB == label)\n",
    "    return len(pxs[0])"
   ]
  },
  {
   "cell_type": "code",
   "execution_count": 10,
   "id": "303af2bc",
   "metadata": {},
   "outputs": [
    {
     "name": "stdout",
     "output_type": "stream",
     "text": [
      "44\n",
      "48\n",
      "9\n"
     ]
    }
   ],
   "source": [
    "print(area(LB, 1))\n",
    "print(area(LB, 2))\n",
    "print(area(LB, 3))"
   ]
  },
  {
   "cell_type": "code",
   "execution_count": 15,
   "id": "c17d00b6",
   "metadata": {},
   "outputs": [],
   "source": [
    "def centroid(LB, label=1):\n",
    "    pxs = np.where(LB == label)\n",
    "    return (np.mean(pxs[0]), np.mean(pxs[1]))"
   ]
  },
  {
   "cell_type": "code",
   "execution_count": 17,
   "id": "71dc30f4",
   "metadata": {},
   "outputs": [
    {
     "name": "stdout",
     "output_type": "stream",
     "text": [
      "(6.0, 11.5)\n",
      "(9.5, 1.5)\n",
      "(13.0, 7.0)\n"
     ]
    }
   ],
   "source": [
    "print(centroid(LB, 1))\n",
    "print(centroid(LB, 2))\n",
    "print(centroid(LB, 3))"
   ]
  },
  {
   "cell_type": "code",
   "execution_count": 28,
   "id": "9d77732d",
   "metadata": {},
   "outputs": [],
   "source": [
    "def neighbours(y, x):\n",
    "    return (y, x+1), (y+1, x), (y, x-1), (y-1, x)\n",
    "\n",
    "def get_boundaries(LB, label=1):\n",
    "    pxs = np.where(LB == label)\n",
    "    boundaries = []\n",
    "    \n",
    "    for y, x in zip(*pxs):\n",
    "        for yn, xn in neighbours(y, x):\n",
    "            if yn < 0 or yn > LB.shape[0]-1:\n",
    "                boundaries.append((y, x))\n",
    "                break\n",
    "            elif xn < 0 or xn > LB.shape[1]-1:\n",
    "                boundaries.append((y, x))\n",
    "                break\n",
    "            elif LB[yn, xn] != label:\n",
    "                boundaries.append((y, x))\n",
    "                break\n",
    "    return boundaries"
   ]
  },
  {
   "cell_type": "code",
   "execution_count": 29,
   "id": "4252c590",
   "metadata": {},
   "outputs": [],
   "source": [
    "def draw_boundaries(LB, label=1):\n",
    "    BB = np.zeros_like(LB)\n",
    "    pos = np.where(LB == label)\n",
    "    BB[pos] = LB[pos]\n",
    "    \n",
    "    for y, x in get_boundaries(BB, label):\n",
    "        BB[y, x] = label + 1\n",
    "    return BB"
   ]
  },
  {
   "cell_type": "code",
   "execution_count": 41,
   "id": "fcda0cb3",
   "metadata": {},
   "outputs": [
    {
     "data": {
      "image/png": "[encoded data removed]",
      "text/plain": [
       "<Figure size 720x360 with 3 Axes>"
      ]
     },
     "metadata": {
      "needs_background": "light"
     },
     "output_type": "display_data"
    }
   ],
   "source": [
    "fig, subs = plt.subplots(1, 3, figsize=(10, 5))\n",
    "\n",
    "for i in range(3):\n",
    "    subs[i].imshow(draw_boundaries(LB, label=i + 1));"
   ]
  },
  {
   "cell_type": "code",
   "execution_count": 42,
   "id": "9ddf899b",
   "metadata": {},
   "outputs": [],
   "source": [
    "def perimeter(LB, label=1):\n",
    "    return len(get_boundaries(LB, label))"
   ]
  },
  {
   "cell_type": "code",
   "execution_count": 43,
   "id": "b420bc05",
   "metadata": {},
   "outputs": [],
   "source": [
    "def circularity(LB, label=1):\n",
    "    # more circularity, less value\n",
    "    return perimeter(LB, label)**2 / area(LB, label)"
   ]
  },
  {
   "cell_type": "code",
   "execution_count": 44,
   "id": "c9b52c0d",
   "metadata": {},
   "outputs": [
    {
     "name": "stdout",
     "output_type": "stream",
     "text": [
      "7.363636363636363\n",
      "16.333333333333332\n",
      "7.111111111111111\n"
     ]
    }
   ],
   "source": [
    "print(circularity(LB, 1))\n",
    "print(circularity(LB, 2))\n",
    "print(circularity(LB, 3))"
   ]
  },
  {
   "cell_type": "code",
   "execution_count": 47,
   "id": "0bbd6bc7",
   "metadata": {},
   "outputs": [],
   "source": [
    "def distance(px1, px2):\n",
    "    return ((px1[0] - px2[0])**2 + (px1[1] - px2[1])**2)**0.5\n",
    "\n",
    "def radial_distance(LB, label=1):\n",
    "    r, c = centroid(LB, label)\n",
    "    boundaries = get_boundaries(LB, label)\n",
    "    K = len(boundaries)\n",
    "    rd = 0\n",
    "    \n",
    "    for rk, ck in boundaries:\n",
    "        rd += distance((r, c), (rk, ck))\n",
    "    return rd / K\n",
    "\n",
    "def std_radial(LB, label=1):\n",
    "    r, c = centroid(LB, label)\n",
    "    rd = radial_distance(LB, label)\n",
    "    boundaries = get_boundaries(LB, label)\n",
    "    K = len(boundaries)\n",
    "    sr = 0\n",
    "    \n",
    "    for rk, ck in boundaries:\n",
    "        sr += (distance((rk, ck), (r, c)) - rd)**2\n",
    "    return (sr / K) ** 0.5\n",
    "\n",
    "def circularity_std(LB, label=1):\n",
    "    return radial_distance(LB, label) / std_radial(LB, label)"
   ]
  },
  {
   "cell_type": "code",
   "execution_count": 48,
   "id": "5159b0b3",
   "metadata": {},
   "outputs": [
    {
     "name": "stdout",
     "output_type": "stream",
     "text": [
      "15.38190804385473\n",
      "2.494772261990279\n",
      "5.828427124746188\n"
     ]
    }
   ],
   "source": [
    "print(circularity_std(LB, 1))\n",
    "print(circularity_std(LB, 2))\n",
    "print(circularity_std(LB, 3))"
   ]
  },
  {
   "cell_type": "code",
   "execution_count": 58,
   "id": "c2b0cf9c",
   "metadata": {},
   "outputs": [
    {
     "data": {
      "image/png": "[encoded data removed]",
      "text/plain": [
       "<Figure size 720x720 with 1 Axes>"
      ]
     },
     "metadata": {
      "needs_background": "light"
     },
     "output_type": "display_data"
    }
   ],
   "source": [
    "coins_img = np.load('coins.npy')\n",
    "plt.figure(figsize=(10, 10))\n",
    "plt.imshow(coins_img);"
   ]
  },
  {
   "cell_type": "code",
   "execution_count": 59,
   "id": "e8676492",
   "metadata": {},
   "outputs": [],
   "source": [
    "def check(image, y, x):\n",
    "    if not 0 <= x < image.shape[1]:\n",
    "        return False\n",
    "    if not 0 <= y < image.shape[0]:\n",
    "        return False\n",
    "    if image[y,x] !=0:\n",
    "        return True\n",
    "    return False\n",
    "\n",
    "def neighbours2(image,y,x):\n",
    "    left = y, x-1\n",
    "    top = y-1,x\n",
    "\n",
    "    if not check(image, *left):\n",
    "        left = None\n",
    "    if not check(image, *top):\n",
    "        top = None\n",
    "\n",
    "    return left,top\n",
    "\n",
    "def find(label,linked):\n",
    "    j = int(label)\n",
    "    while linked[j] != 0:\n",
    "        j = linked[j]\n",
    "    return j\n",
    "\n",
    "def union(label1,label2,linked):\n",
    "    j = find(label1,linked)\n",
    "    k = find(label2,linked)\n",
    "    if j != k:\n",
    "        linked[k] = j\n",
    "    \n",
    "\n",
    "\n",
    "def two_pass_labeling(b_image):\n",
    "    labeled = np.zeros_like(b_image)\n",
    "    label = 1\n",
    "    linked = np.zeros(len(b_image), dtype='uint')\n",
    "\n",
    "    for y in range(b_image.shape[0]):\n",
    "        for x in range(b_image.shape[1]):\n",
    "            if b_image[y,x] != 0:\n",
    "                ns = neighbours2(b_image,y,x)\n",
    "                if ns[0] is None and ns[1] is None:\n",
    "                    m = label\n",
    "                    label += 1\n",
    "                else:\n",
    "                    lbs = [labeled[i] for i in ns if i is not None]\n",
    "                    m = min(lbs)\n",
    "                labeled[y,x] = m\n",
    "\n",
    "                for n in ns:\n",
    "                    if n is not None:\n",
    "                        lb = labeled[n]\n",
    "                        if lb != m:\n",
    "                            union(m, lb, linked)\n",
    "\n",
    "    labs = []\n",
    "    \n",
    "    for y in range(b_image.shape[0]):\n",
    "        for x in range(b_image.shape[1]):\n",
    "            if b_image[y,x] != 0:\n",
    "                new_label = find(labeled[y,x],linked)\n",
    "                \n",
    "                if new_label != labeled[y,x]:\n",
    "                    labeled[y,x] = new_label                    \n",
    "                if new_label not in labs:\n",
    "                    labs.append(new_label)\n",
    "                if labeled[y,x] in labs:\n",
    "                    labeled[y,x] = labs.index(new_label) + 1\n",
    "\n",
    "    return labeled"
   ]
  },
  {
   "cell_type": "code",
   "execution_count": 101,
   "id": "a1ba1a08",
   "metadata": {},
   "outputs": [],
   "source": [
    "coin_areas = dict()"
   ]
  },
  {
   "cell_type": "code",
   "execution_count": 96,
   "id": "7b6a2a19",
   "metadata": {},
   "outputs": [],
   "source": [
    "marked = coins_img.copy() * -1\n",
    "labeled = two_pass_labeling(marked)"
   ]
  },
  {
   "cell_type": "code",
   "execution_count": 97,
   "id": "4554b4ff",
   "metadata": {},
   "outputs": [
    {
     "data": {
      "text/plain": [
       "<matplotlib.image.AxesImage at 0x7f45333a7ca0>"
      ]
     },
     "execution_count": 97,
     "metadata": {},
     "output_type": "execute_result"
    },
    {
     "data": {
      "image/png": "[encoded data removed]",
      "text/plain": [
       "<Figure size 720x720 with 1 Axes>"
      ]
     },
     "metadata": {
      "needs_background": "light"
     },
     "output_type": "display_data"
    }
   ],
   "source": [
    "plt.figure(figsize=(10, 10))\n",
    "plt.imshow(labeled)"
   ]
  },
  {
   "cell_type": "code",
   "execution_count": 102,
   "id": "7b74150c",
   "metadata": {},
   "outputs": [],
   "source": [
    "for label in range(labeled.max()):\n",
    "    c_area = area(labeled, label + 1)\n",
    "    if c_area in coin_areas:\n",
    "        coin_areas[c_area] += 1\n",
    "    else:\n",
    "        coin_areas[c_area] = 1"
   ]
  },
  {
   "cell_type": "code",
   "execution_count": 103,
   "id": "ce5351d7",
   "metadata": {},
   "outputs": [
    {
     "data": {
      "text/plain": [
       "{305: 12, 69: 10, 609: 15, 145: 13}"
      ]
     },
     "execution_count": 103,
     "metadata": {},
     "output_type": "execute_result"
    }
   ],
   "source": [
    "coin_areas"
   ]
  },
  {
   "cell_type": "code",
   "execution_count": 104,
   "id": "3217ed36",
   "metadata": {},
   "outputs": [
    {
     "name": "stdout",
     "output_type": "stream",
     "text": [
      "Coin sum: 246\n"
     ]
    }
   ],
   "source": [
    "nom = [1, 2, 5, 10]\n",
    "s = 0\n",
    "\n",
    "for i, key in enumerate(sorted(coin_areas.keys())):\n",
    "    s += coin_areas[key] * nom[i]\n",
    "print(f\"Coin sum: {s}\")"
   ]
  },
  {
   "cell_type": "code",
   "execution_count": 105,
   "id": "beb697ca",
   "metadata": {},
   "outputs": [],
   "source": [
    "from skimage.measure import label"
   ]
  },
  {
   "cell_type": "code",
   "execution_count": 106,
   "id": "352940af",
   "metadata": {},
   "outputs": [
    {
     "data": {
      "text/plain": [
       "<matplotlib.image.AxesImage at 0x7f452f2fcbb0>"
      ]
     },
     "execution_count": 106,
     "metadata": {},
     "output_type": "execute_result"
    },
    {
     "data": {
      "image/png": "[encoded data removed]",
      "text/plain": [
       "<Figure size 432x288 with 1 Axes>"
      ]
     },
     "metadata": {
      "needs_background": "light"
     },
     "output_type": "display_data"
    }
   ],
   "source": [
    "labeled = label(coins_img)\n",
    "\n",
    "plt.imshow(labeled)"
   ]
  },
  {
   "cell_type": "code",
   "execution_count": null,
   "id": "85864ff3",
   "metadata": {},
   "outputs": [],
   "source": []
  }
 ],
 "metadata": {
  "kernelspec": {
   "display_name": "Python 3",
   "language": "python",
   "name": "python3"
  },
  "language_info": {
   "codemirror_mode": {
    "name": "ipython",
    "version": 3
   },
   "file_extension": ".py",
   "mimetype": "text/x-python",
   "name": "python",
   "nbconvert_exporter": "python",
   "pygments_lexer": "ipython3",
   "version": "3.8.8"
  }
 },
 "nbformat": 4,
 "nbformat_minor": 5
}
