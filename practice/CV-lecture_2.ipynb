{
 "cells": [
  {
   "cell_type": "code",
   "execution_count": 1,
   "id": "89d62c0c",
   "metadata": {},
   "outputs": [],
   "source": [
    "import numpy as np\n",
    "import matplotlib.pyplot as plt"
   ]
  },
  {
   "cell_type": "code",
   "execution_count": 2,
   "id": "ca83d7bb",
   "metadata": {},
   "outputs": [],
   "source": [
    "filename = \"ex1.npy\"\n",
    "image = np.load(filename)"
   ]
  },
  {
   "cell_type": "code",
   "execution_count": 5,
   "id": "c9304c34",
   "metadata": {},
   "outputs": [
    {
     "data": {
      "image/png": "[encoded data removed]",
      "text/plain": [
       "<Figure size 360x360 with 1 Axes>"
      ]
     },
     "metadata": {
      "needs_background": "light"
     },
     "output_type": "display_data"
    }
   ],
   "source": [
    "plt.figure(figsize=(5, 5))\n",
    "plt.imshow(image, cmap=\"gray\")\n",
    "plt.show()"
   ]
  },
  {
   "cell_type": "code",
   "execution_count": 23,
   "id": "0c8b6e58",
   "metadata": {},
   "outputs": [],
   "source": [
    "extern_masks = np.array([\n",
    "    [\n",
    "        [0, 0],\n",
    "        [0, 1]\n",
    "    ],\n",
    "    [\n",
    "        [1, 0],\n",
    "        [0, 0]\n",
    "    ],\n",
    "    [\n",
    "        [0, 1],\n",
    "        [0, 0]\n",
    "    ],\n",
    "    [\n",
    "        [0, 0],\n",
    "        [1, 0]\n",
    "    ]\n",
    "])\n",
    "\n",
    "intern_masks = np.logical_not(extern_masks).astype(\"int\")\n",
    "# or intern_masks = extern_masks ^ 1\n",
    "\n",
    "cross_masks = np.array([\n",
    "    [\n",
    "        [1, 0],\n",
    "        [0, 1],\n",
    "    ],\n",
    "    [\n",
    "        [0, 1],\n",
    "        [1, 0]\n",
    "    ]\n",
    "])"
   ]
  },
  {
   "cell_type": "code",
   "execution_count": 9,
   "id": "f2c1608d",
   "metadata": {},
   "outputs": [],
   "source": [
    "def match(a, masks):\n",
    "    for mask in masks:\n",
    "        if np.all(a == mask):\n",
    "            return True\n",
    "    return False"
   ]
  },
  {
   "cell_type": "code",
   "execution_count": 29,
   "id": "f9027a84",
   "metadata": {},
   "outputs": [],
   "source": [
    "def count_objects(image):\n",
    "    extern, intern, cross = 0, 0, 0\n",
    "    \n",
    "    for y in range(0, image.shape[0] - 1):\n",
    "        for x in range(0, image.shape[1] - 1):\n",
    "            sub = image[y:y+2, x:x+2]\n",
    "            \n",
    "            if match(sub, extern_masks):\n",
    "                extern += 1\n",
    "                continue\n",
    "            \n",
    "            if match(sub, intern_masks):\n",
    "                intern += 1\n",
    "                continue\n",
    "                \n",
    "            if match(sub, cross_masks):\n",
    "                cross += 1\n",
    "            \n",
    "    return (extern - intern) / 4 + cross / 2"
   ]
  },
  {
   "cell_type": "code",
   "execution_count": 27,
   "id": "ed0f8c52",
   "metadata": {},
   "outputs": [
    {
     "data": {
      "text/plain": [
       "1.75"
      ]
     },
     "execution_count": 27,
     "metadata": {},
     "output_type": "execute_result"
    }
   ],
   "source": [
    "count_objects(image)"
   ]
  },
  {
   "cell_type": "code",
   "execution_count": 30,
   "id": "456221a3",
   "metadata": {},
   "outputs": [
    {
     "name": "stdout",
     "output_type": "stream",
     "text": [
      "Objects number for ex1.npy :  1.0\n",
      "Objects number for ex2.npy :  1.0\n",
      "Objects number for ex3.npy :  1.0\n",
      "Objects number for ex4.npy :  3.0\n",
      "Objects number for ex5.npy :  64.0\n",
      "Objects number for ex6.npy :  2.0\n"
     ]
    }
   ],
   "source": [
    "for i in range(1, 7):\n",
    "    filename = f\"ex{i}.npy\"\n",
    "    image = np.load(filename)\n",
    "    print(\"Objects number for\", filename, \": \", count_objects(image))"
   ]
  },
  {
   "cell_type": "code",
   "execution_count": 20,
   "id": "ead43741",
   "metadata": {},
   "outputs": [
    {
     "data": {
      "image/png": "[encoded data removed]",
      "text/plain": [
       "<Figure size 360x360 with 1 Axes>"
      ]
     },
     "metadata": {
      "needs_background": "light"
     },
     "output_type": "display_data"
    }
   ],
   "source": [
    "image = np.load(\"ex6.npy\")\n",
    "plt.figure(figsize=(5, 5))\n",
    "plt.imshow(image, cmap=\"gray\")\n",
    "plt.show()"
   ]
  },
  {
   "cell_type": "code",
   "execution_count": null,
   "id": "de42c9e3",
   "metadata": {},
   "outputs": [],
   "source": []
  }
 ],
 "metadata": {
  "kernelspec": {
   "display_name": "Python 3",
   "language": "python",
   "name": "python3"
  },
  "language_info": {
   "codemirror_mode": {
    "name": "ipython",
    "version": 3
   },
   "file_extension": ".py",
   "mimetype": "text/x-python",
   "name": "python",
   "nbconvert_exporter": "python",
   "pygments_lexer": "ipython3",
   "version": "3.8.8"
  }
 },
 "nbformat": 4,
 "nbformat_minor": 5
}
